{
 "cells": [
  {
   "cell_type": "code",
   "execution_count": 4,
   "metadata": {},
   "outputs": [],
   "source": [
    "import numpy as np\n",
    "import pandas as pd"
   ]
  },
  {
   "cell_type": "code",
   "execution_count": 5,
   "metadata": {},
   "outputs": [],
   "source": [
    "df=pd.read_csv('https://raw.githubusercontent.com/BadreeshShetty/Learnings-to-make-Recommedations/master/Content%20Filtering/movies.csv')"
   ]
  },
  {
   "cell_type": "code",
   "execution_count": 6,
   "metadata": {},
   "outputs": [
    {
     "name": "stdout",
     "output_type": "stream",
     "text": [
      "   movieId                         title  \\\n",
      "0        1                    Toy Story    \n",
      "1        2                      Jumanji    \n",
      "2        3             Grumpier Old Men    \n",
      "3        4            Waiting to Exhale    \n",
      "4        5  Father of the Bride Part II    \n",
      "\n",
      "                                        genres  \n",
      "0  Adventure|Animation|Children|Comedy|Fantasy  \n",
      "1                   Adventure|Children|Fantasy  \n",
      "2                               Comedy|Romance  \n",
      "3                         Comedy|Drama|Romance  \n",
      "4                                       Comedy  \n"
     ]
    }
   ],
   "source": [
    "print(df.head())\n",
    "unique_genre=[]"
   ]
  },
  {
   "cell_type": "code",
   "execution_count": 7,
   "metadata": {},
   "outputs": [],
   "source": [
    "for inx,row in df.iterrows():\n",
    "    genre=row['genres'].split('|')\n",
    "    for gen in genre:\n",
    "        if gen not in unique_genre:\n",
    "            unique_genre.append(gen)\n",
    "        "
   ]
  },
  {
   "cell_type": "code",
   "execution_count": 8,
   "metadata": {},
   "outputs": [
    {
     "data": {
      "text/plain": [
       "['Adventure',\n",
       " 'Animation',\n",
       " 'Children',\n",
       " 'Comedy',\n",
       " 'Fantasy',\n",
       " 'Romance',\n",
       " 'Drama',\n",
       " 'Action',\n",
       " 'Crime',\n",
       " 'Thriller',\n",
       " 'Horror',\n",
       " 'Mystery',\n",
       " 'Sci-Fi',\n",
       " 'War',\n",
       " 'Musical',\n",
       " 'Documentary',\n",
       " 'IMAX',\n",
       " 'Western',\n",
       " 'Film-Noir',\n",
       " '(no genres listed)']"
      ]
     },
     "execution_count": 8,
     "metadata": {},
     "output_type": "execute_result"
    }
   ],
   "source": [
    "unique_genre"
   ]
  },
  {
   "cell_type": "code",
   "execution_count": 9,
   "metadata": {},
   "outputs": [
    {
     "data": {
      "text/plain": [
       "movieId    9742\n",
       "title      9742\n",
       "genres     9742\n",
       "dtype: int64"
      ]
     },
     "execution_count": 9,
     "metadata": {},
     "output_type": "execute_result"
    }
   ],
   "source": [
    "df.count()"
   ]
  },
  {
   "cell_type": "code",
   "execution_count": 10,
   "metadata": {},
   "outputs": [],
   "source": [
    "x=np.zeros((9742,20))"
   ]
  },
  {
   "cell_type": "code",
   "execution_count": 11,
   "metadata": {},
   "outputs": [
    {
     "data": {
      "text/plain": [
       "array([[0., 0., 0., ..., 0., 0., 0.],\n",
       "       [0., 0., 0., ..., 0., 0., 0.],\n",
       "       [0., 0., 0., ..., 0., 0., 0.],\n",
       "       ...,\n",
       "       [0., 0., 0., ..., 0., 0., 0.],\n",
       "       [0., 0., 0., ..., 0., 0., 0.],\n",
       "       [0., 0., 0., ..., 0., 0., 0.]])"
      ]
     },
     "execution_count": 11,
     "metadata": {},
     "output_type": "execute_result"
    }
   ],
   "source": [
    "x"
   ]
  },
  {
   "cell_type": "code",
   "execution_count": 12,
   "metadata": {},
   "outputs": [],
   "source": [
    "XDF=pd.DataFrame(x,columns=unique_genre,index=df.movieId)"
   ]
  },
  {
   "cell_type": "code",
   "execution_count": 13,
   "metadata": {},
   "outputs": [
    {
     "data": {
      "text/html": [
       "<div>\n",
       "<style scoped>\n",
       "    .dataframe tbody tr th:only-of-type {\n",
       "        vertical-align: middle;\n",
       "    }\n",
       "\n",
       "    .dataframe tbody tr th {\n",
       "        vertical-align: top;\n",
       "    }\n",
       "\n",
       "    .dataframe thead th {\n",
       "        text-align: right;\n",
       "    }\n",
       "</style>\n",
       "<table border=\"1\" class=\"dataframe\">\n",
       "  <thead>\n",
       "    <tr style=\"text-align: right;\">\n",
       "      <th></th>\n",
       "      <th>Adventure</th>\n",
       "      <th>Animation</th>\n",
       "      <th>Children</th>\n",
       "      <th>Comedy</th>\n",
       "      <th>Fantasy</th>\n",
       "      <th>Romance</th>\n",
       "      <th>Drama</th>\n",
       "      <th>Action</th>\n",
       "      <th>Crime</th>\n",
       "      <th>Thriller</th>\n",
       "      <th>Horror</th>\n",
       "      <th>Mystery</th>\n",
       "      <th>Sci-Fi</th>\n",
       "      <th>War</th>\n",
       "      <th>Musical</th>\n",
       "      <th>Documentary</th>\n",
       "      <th>IMAX</th>\n",
       "      <th>Western</th>\n",
       "      <th>Film-Noir</th>\n",
       "      <th>(no genres listed)</th>\n",
       "    </tr>\n",
       "    <tr>\n",
       "      <th>movieId</th>\n",
       "      <th></th>\n",
       "      <th></th>\n",
       "      <th></th>\n",
       "      <th></th>\n",
       "      <th></th>\n",
       "      <th></th>\n",
       "      <th></th>\n",
       "      <th></th>\n",
       "      <th></th>\n",
       "      <th></th>\n",
       "      <th></th>\n",
       "      <th></th>\n",
       "      <th></th>\n",
       "      <th></th>\n",
       "      <th></th>\n",
       "      <th></th>\n",
       "      <th></th>\n",
       "      <th></th>\n",
       "      <th></th>\n",
       "      <th></th>\n",
       "    </tr>\n",
       "  </thead>\n",
       "  <tbody>\n",
       "    <tr>\n",
       "      <th>1</th>\n",
       "      <td>0.0</td>\n",
       "      <td>0.0</td>\n",
       "      <td>0.0</td>\n",
       "      <td>0.0</td>\n",
       "      <td>0.0</td>\n",
       "      <td>0.0</td>\n",
       "      <td>0.0</td>\n",
       "      <td>0.0</td>\n",
       "      <td>0.0</td>\n",
       "      <td>0.0</td>\n",
       "      <td>0.0</td>\n",
       "      <td>0.0</td>\n",
       "      <td>0.0</td>\n",
       "      <td>0.0</td>\n",
       "      <td>0.0</td>\n",
       "      <td>0.0</td>\n",
       "      <td>0.0</td>\n",
       "      <td>0.0</td>\n",
       "      <td>0.0</td>\n",
       "      <td>0.0</td>\n",
       "    </tr>\n",
       "    <tr>\n",
       "      <th>2</th>\n",
       "      <td>0.0</td>\n",
       "      <td>0.0</td>\n",
       "      <td>0.0</td>\n",
       "      <td>0.0</td>\n",
       "      <td>0.0</td>\n",
       "      <td>0.0</td>\n",
       "      <td>0.0</td>\n",
       "      <td>0.0</td>\n",
       "      <td>0.0</td>\n",
       "      <td>0.0</td>\n",
       "      <td>0.0</td>\n",
       "      <td>0.0</td>\n",
       "      <td>0.0</td>\n",
       "      <td>0.0</td>\n",
       "      <td>0.0</td>\n",
       "      <td>0.0</td>\n",
       "      <td>0.0</td>\n",
       "      <td>0.0</td>\n",
       "      <td>0.0</td>\n",
       "      <td>0.0</td>\n",
       "    </tr>\n",
       "    <tr>\n",
       "      <th>3</th>\n",
       "      <td>0.0</td>\n",
       "      <td>0.0</td>\n",
       "      <td>0.0</td>\n",
       "      <td>0.0</td>\n",
       "      <td>0.0</td>\n",
       "      <td>0.0</td>\n",
       "      <td>0.0</td>\n",
       "      <td>0.0</td>\n",
       "      <td>0.0</td>\n",
       "      <td>0.0</td>\n",
       "      <td>0.0</td>\n",
       "      <td>0.0</td>\n",
       "      <td>0.0</td>\n",
       "      <td>0.0</td>\n",
       "      <td>0.0</td>\n",
       "      <td>0.0</td>\n",
       "      <td>0.0</td>\n",
       "      <td>0.0</td>\n",
       "      <td>0.0</td>\n",
       "      <td>0.0</td>\n",
       "    </tr>\n",
       "    <tr>\n",
       "      <th>4</th>\n",
       "      <td>0.0</td>\n",
       "      <td>0.0</td>\n",
       "      <td>0.0</td>\n",
       "      <td>0.0</td>\n",
       "      <td>0.0</td>\n",
       "      <td>0.0</td>\n",
       "      <td>0.0</td>\n",
       "      <td>0.0</td>\n",
       "      <td>0.0</td>\n",
       "      <td>0.0</td>\n",
       "      <td>0.0</td>\n",
       "      <td>0.0</td>\n",
       "      <td>0.0</td>\n",
       "      <td>0.0</td>\n",
       "      <td>0.0</td>\n",
       "      <td>0.0</td>\n",
       "      <td>0.0</td>\n",
       "      <td>0.0</td>\n",
       "      <td>0.0</td>\n",
       "      <td>0.0</td>\n",
       "    </tr>\n",
       "    <tr>\n",
       "      <th>5</th>\n",
       "      <td>0.0</td>\n",
       "      <td>0.0</td>\n",
       "      <td>0.0</td>\n",
       "      <td>0.0</td>\n",
       "      <td>0.0</td>\n",
       "      <td>0.0</td>\n",
       "      <td>0.0</td>\n",
       "      <td>0.0</td>\n",
       "      <td>0.0</td>\n",
       "      <td>0.0</td>\n",
       "      <td>0.0</td>\n",
       "      <td>0.0</td>\n",
       "      <td>0.0</td>\n",
       "      <td>0.0</td>\n",
       "      <td>0.0</td>\n",
       "      <td>0.0</td>\n",
       "      <td>0.0</td>\n",
       "      <td>0.0</td>\n",
       "      <td>0.0</td>\n",
       "      <td>0.0</td>\n",
       "    </tr>\n",
       "  </tbody>\n",
       "</table>\n",
       "</div>"
      ],
      "text/plain": [
       "         Adventure  Animation  Children  Comedy  Fantasy  Romance  Drama  \\\n",
       "movieId                                                                    \n",
       "1              0.0        0.0       0.0     0.0      0.0      0.0    0.0   \n",
       "2              0.0        0.0       0.0     0.0      0.0      0.0    0.0   \n",
       "3              0.0        0.0       0.0     0.0      0.0      0.0    0.0   \n",
       "4              0.0        0.0       0.0     0.0      0.0      0.0    0.0   \n",
       "5              0.0        0.0       0.0     0.0      0.0      0.0    0.0   \n",
       "\n",
       "         Action  Crime  Thriller  Horror  Mystery  Sci-Fi  War  Musical  \\\n",
       "movieId                                                                   \n",
       "1           0.0    0.0       0.0     0.0      0.0     0.0  0.0      0.0   \n",
       "2           0.0    0.0       0.0     0.0      0.0     0.0  0.0      0.0   \n",
       "3           0.0    0.0       0.0     0.0      0.0     0.0  0.0      0.0   \n",
       "4           0.0    0.0       0.0     0.0      0.0     0.0  0.0      0.0   \n",
       "5           0.0    0.0       0.0     0.0      0.0     0.0  0.0      0.0   \n",
       "\n",
       "         Documentary  IMAX  Western  Film-Noir  (no genres listed)  \n",
       "movieId                                                             \n",
       "1                0.0   0.0      0.0        0.0                 0.0  \n",
       "2                0.0   0.0      0.0        0.0                 0.0  \n",
       "3                0.0   0.0      0.0        0.0                 0.0  \n",
       "4                0.0   0.0      0.0        0.0                 0.0  \n",
       "5                0.0   0.0      0.0        0.0                 0.0  "
      ]
     },
     "execution_count": 13,
     "metadata": {},
     "output_type": "execute_result"
    }
   ],
   "source": [
    "XDF.head()"
   ]
  },
  {
   "cell_type": "code",
   "execution_count": 14,
   "metadata": {},
   "outputs": [],
   "source": [
    "for ix,rowdata in df.iterrows():\n",
    "    genre=rowdata['genres'].split('|')\n",
    "    for gen in genre:\n",
    "        XDF.loc[rowdata['movieId'],gen]=1"
   ]
  },
  {
   "cell_type": "code",
   "execution_count": 15,
   "metadata": {},
   "outputs": [
    {
     "data": {
      "text/html": [
       "<div>\n",
       "<style scoped>\n",
       "    .dataframe tbody tr th:only-of-type {\n",
       "        vertical-align: middle;\n",
       "    }\n",
       "\n",
       "    .dataframe tbody tr th {\n",
       "        vertical-align: top;\n",
       "    }\n",
       "\n",
       "    .dataframe thead th {\n",
       "        text-align: right;\n",
       "    }\n",
       "</style>\n",
       "<table border=\"1\" class=\"dataframe\">\n",
       "  <thead>\n",
       "    <tr style=\"text-align: right;\">\n",
       "      <th></th>\n",
       "      <th>Adventure</th>\n",
       "      <th>Animation</th>\n",
       "      <th>Children</th>\n",
       "      <th>Comedy</th>\n",
       "      <th>Fantasy</th>\n",
       "      <th>Romance</th>\n",
       "      <th>Drama</th>\n",
       "      <th>Action</th>\n",
       "      <th>Crime</th>\n",
       "      <th>Thriller</th>\n",
       "      <th>Horror</th>\n",
       "      <th>Mystery</th>\n",
       "      <th>Sci-Fi</th>\n",
       "      <th>War</th>\n",
       "      <th>Musical</th>\n",
       "      <th>Documentary</th>\n",
       "      <th>IMAX</th>\n",
       "      <th>Western</th>\n",
       "      <th>Film-Noir</th>\n",
       "      <th>(no genres listed)</th>\n",
       "    </tr>\n",
       "    <tr>\n",
       "      <th>movieId</th>\n",
       "      <th></th>\n",
       "      <th></th>\n",
       "      <th></th>\n",
       "      <th></th>\n",
       "      <th></th>\n",
       "      <th></th>\n",
       "      <th></th>\n",
       "      <th></th>\n",
       "      <th></th>\n",
       "      <th></th>\n",
       "      <th></th>\n",
       "      <th></th>\n",
       "      <th></th>\n",
       "      <th></th>\n",
       "      <th></th>\n",
       "      <th></th>\n",
       "      <th></th>\n",
       "      <th></th>\n",
       "      <th></th>\n",
       "      <th></th>\n",
       "    </tr>\n",
       "  </thead>\n",
       "  <tbody>\n",
       "    <tr>\n",
       "      <th>1</th>\n",
       "      <td>1.0</td>\n",
       "      <td>1.0</td>\n",
       "      <td>1.0</td>\n",
       "      <td>1.0</td>\n",
       "      <td>1.0</td>\n",
       "      <td>0.0</td>\n",
       "      <td>0.0</td>\n",
       "      <td>0.0</td>\n",
       "      <td>0.0</td>\n",
       "      <td>0.0</td>\n",
       "      <td>0.0</td>\n",
       "      <td>0.0</td>\n",
       "      <td>0.0</td>\n",
       "      <td>0.0</td>\n",
       "      <td>0.0</td>\n",
       "      <td>0.0</td>\n",
       "      <td>0.0</td>\n",
       "      <td>0.0</td>\n",
       "      <td>0.0</td>\n",
       "      <td>0.0</td>\n",
       "    </tr>\n",
       "    <tr>\n",
       "      <th>2</th>\n",
       "      <td>1.0</td>\n",
       "      <td>0.0</td>\n",
       "      <td>1.0</td>\n",
       "      <td>0.0</td>\n",
       "      <td>1.0</td>\n",
       "      <td>0.0</td>\n",
       "      <td>0.0</td>\n",
       "      <td>0.0</td>\n",
       "      <td>0.0</td>\n",
       "      <td>0.0</td>\n",
       "      <td>0.0</td>\n",
       "      <td>0.0</td>\n",
       "      <td>0.0</td>\n",
       "      <td>0.0</td>\n",
       "      <td>0.0</td>\n",
       "      <td>0.0</td>\n",
       "      <td>0.0</td>\n",
       "      <td>0.0</td>\n",
       "      <td>0.0</td>\n",
       "      <td>0.0</td>\n",
       "    </tr>\n",
       "    <tr>\n",
       "      <th>3</th>\n",
       "      <td>0.0</td>\n",
       "      <td>0.0</td>\n",
       "      <td>0.0</td>\n",
       "      <td>1.0</td>\n",
       "      <td>0.0</td>\n",
       "      <td>1.0</td>\n",
       "      <td>0.0</td>\n",
       "      <td>0.0</td>\n",
       "      <td>0.0</td>\n",
       "      <td>0.0</td>\n",
       "      <td>0.0</td>\n",
       "      <td>0.0</td>\n",
       "      <td>0.0</td>\n",
       "      <td>0.0</td>\n",
       "      <td>0.0</td>\n",
       "      <td>0.0</td>\n",
       "      <td>0.0</td>\n",
       "      <td>0.0</td>\n",
       "      <td>0.0</td>\n",
       "      <td>0.0</td>\n",
       "    </tr>\n",
       "    <tr>\n",
       "      <th>4</th>\n",
       "      <td>0.0</td>\n",
       "      <td>0.0</td>\n",
       "      <td>0.0</td>\n",
       "      <td>1.0</td>\n",
       "      <td>0.0</td>\n",
       "      <td>1.0</td>\n",
       "      <td>1.0</td>\n",
       "      <td>0.0</td>\n",
       "      <td>0.0</td>\n",
       "      <td>0.0</td>\n",
       "      <td>0.0</td>\n",
       "      <td>0.0</td>\n",
       "      <td>0.0</td>\n",
       "      <td>0.0</td>\n",
       "      <td>0.0</td>\n",
       "      <td>0.0</td>\n",
       "      <td>0.0</td>\n",
       "      <td>0.0</td>\n",
       "      <td>0.0</td>\n",
       "      <td>0.0</td>\n",
       "    </tr>\n",
       "    <tr>\n",
       "      <th>5</th>\n",
       "      <td>0.0</td>\n",
       "      <td>0.0</td>\n",
       "      <td>0.0</td>\n",
       "      <td>1.0</td>\n",
       "      <td>0.0</td>\n",
       "      <td>0.0</td>\n",
       "      <td>0.0</td>\n",
       "      <td>0.0</td>\n",
       "      <td>0.0</td>\n",
       "      <td>0.0</td>\n",
       "      <td>0.0</td>\n",
       "      <td>0.0</td>\n",
       "      <td>0.0</td>\n",
       "      <td>0.0</td>\n",
       "      <td>0.0</td>\n",
       "      <td>0.0</td>\n",
       "      <td>0.0</td>\n",
       "      <td>0.0</td>\n",
       "      <td>0.0</td>\n",
       "      <td>0.0</td>\n",
       "    </tr>\n",
       "  </tbody>\n",
       "</table>\n",
       "</div>"
      ],
      "text/plain": [
       "         Adventure  Animation  Children  Comedy  Fantasy  Romance  Drama  \\\n",
       "movieId                                                                    \n",
       "1              1.0        1.0       1.0     1.0      1.0      0.0    0.0   \n",
       "2              1.0        0.0       1.0     0.0      1.0      0.0    0.0   \n",
       "3              0.0        0.0       0.0     1.0      0.0      1.0    0.0   \n",
       "4              0.0        0.0       0.0     1.0      0.0      1.0    1.0   \n",
       "5              0.0        0.0       0.0     1.0      0.0      0.0    0.0   \n",
       "\n",
       "         Action  Crime  Thriller  Horror  Mystery  Sci-Fi  War  Musical  \\\n",
       "movieId                                                                   \n",
       "1           0.0    0.0       0.0     0.0      0.0     0.0  0.0      0.0   \n",
       "2           0.0    0.0       0.0     0.0      0.0     0.0  0.0      0.0   \n",
       "3           0.0    0.0       0.0     0.0      0.0     0.0  0.0      0.0   \n",
       "4           0.0    0.0       0.0     0.0      0.0     0.0  0.0      0.0   \n",
       "5           0.0    0.0       0.0     0.0      0.0     0.0  0.0      0.0   \n",
       "\n",
       "         Documentary  IMAX  Western  Film-Noir  (no genres listed)  \n",
       "movieId                                                             \n",
       "1                0.0   0.0      0.0        0.0                 0.0  \n",
       "2                0.0   0.0      0.0        0.0                 0.0  \n",
       "3                0.0   0.0      0.0        0.0                 0.0  \n",
       "4                0.0   0.0      0.0        0.0                 0.0  \n",
       "5                0.0   0.0      0.0        0.0                 0.0  "
      ]
     },
     "execution_count": 15,
     "metadata": {},
     "output_type": "execute_result"
    }
   ],
   "source": [
    "XDF.head()"
   ]
  },
  {
   "cell_type": "code",
   "execution_count": 16,
   "metadata": {},
   "outputs": [],
   "source": [
    "from sklearn.metrics.pairwise import cosine_similarity\n"
   ]
  },
  {
   "cell_type": "code",
   "execution_count": null,
   "metadata": {},
   "outputs": [],
   "source": [
    "similarity=cosine_similarity(XDF,XDF)"
   ]
  },
  {
   "cell_type": "code",
   "execution_count": null,
   "metadata": {},
   "outputs": [],
   "source": [
    "similarity1=pd.DataFrame(similarity,columns=df.title,index=df.title)\n"
   ]
  },
  {
   "cell_type": "code",
   "execution_count": null,
   "metadata": {},
   "outputs": [],
   "source": [
    "similarity1.head()"
   ]
  },
  {
   "cell_type": "code",
   "execution_count": 17,
   "metadata": {
    "scrolled": true
   },
   "outputs": [
    {
     "data": {
      "text/plain": [
       "title\n",
       "Toy Story                                                                     1.000000\n",
       "Turbo                                                                         1.000000\n",
       "Monsters, Inc.                                                                1.000000\n",
       "Moana                                                                         1.000000\n",
       "Emperor's New Groove, The                                                     1.000000\n",
       "Adventures of Rocky and Bullwinkle, The                                       1.000000\n",
       "Toy Story 2                                                                   1.000000\n",
       "Wild, The                                                                     1.000000\n",
       "The Good Dinosaur                                                             1.000000\n",
       "Tale of Despereaux, The                                                       1.000000\n",
       "Asterix and the Vikings (Astérix et les Vikings)                              1.000000\n",
       "Antz                                                                          1.000000\n",
       "Shrek the Third                                                               1.000000\n",
       "Ant Bully, The                                                                0.912871\n",
       "Twelve Tasks of Asterix, The (Les douze travaux d'Astérix)                    0.912871\n",
       "Valiant                                                                       0.912871\n",
       "Puss in Boots (Nagagutsu o haita neko)                                        0.912871\n",
       "Gnomeo & Juliet                                                               0.912871\n",
       "Space Jam                                                                     0.912871\n",
       "Home                                                                          0.912871\n",
       "Inside Out                                                                    0.912871\n",
       "TMNT (Teenage Mutant Ninja Turtles)                                           0.912871\n",
       "Shrek                                                                         0.912871\n",
       "The Lego Movie                                                                0.912871\n",
       "Shrek Forever After (a.k.a. Shrek: The Final Chapter)                         0.912871\n",
       "Toy Story 3                                                                   0.912871\n",
       "Rio 2                                                                         0.894427\n",
       "Lion King 1½, The                                                             0.894427\n",
       "Wow! A Talking Fish!                                                          0.894427\n",
       "Kirikou and the Sorceress (Kirikou et la sorcière)                            0.894427\n",
       "                                                                                ...   \n",
       "Cobra                                                                         0.000000\n",
       "Phenomena (a.k.a. Creepers)                                                   0.000000\n",
       "Tightrope                                                                     0.000000\n",
       "Sleeping with the Enemy                                                       0.000000\n",
       "Miss Meadows                                                                  0.000000\n",
       "Come and See (Idi i smotri)                                                   0.000000\n",
       "Ginger Snaps                                                                  0.000000\n",
       "Virunga                                                                       0.000000\n",
       "My Life Without Me                                                            0.000000\n",
       "Handmaid's Tale, The                                                          0.000000\n",
       "Cabin Fever                                                                   0.000000\n",
       "Revolution OS                                                                 0.000000\n",
       "Death in Venice (Morte a Venezia)                                             0.000000\n",
       "Dust                                                                          0.000000\n",
       "Stoked: The Rise and Fall of Gator                                            0.000000\n",
       "Jeepers Creepers 2                                                            0.000000\n",
       "Once Upon a Time in the Midlands                                              0.000000\n",
       "Citizenfour                                                                   0.000000\n",
       "Taking Sides                                                                  0.000000\n",
       "Children of the Night                                                         0.000000\n",
       "Luther                                                                        0.000000\n",
       "Watermark                                                                     0.000000\n",
       "Once Upon a Time in China II (Wong Fei-hung Ji Yi: Naam yi dong ji keung)     0.000000\n",
       "Once Upon a Time in China III (Wong Fei-hung tsi sam: Siwong tsangba)         0.000000\n",
       "Day of the Dead                                                               0.000000\n",
       "Squirm                                                                        0.000000\n",
       "Brood, The                                                                    0.000000\n",
       "Cold Creek Manor                                                              0.000000\n",
       "Fighting Temptations, The                                                     0.000000\n",
       "Monsieur Ibrahim (Monsieur Ibrahim et les fleurs du Coran)                    0.000000\n",
       "Name: Toy Story , Length: 9742, dtype: float64"
      ]
     },
     "execution_count": 17,
     "metadata": {},
     "output_type": "execute_result"
    }
   ],
   "source": [
    "similarity1['Toy Story '].sort_values(ascending=False)"
   ]
  },
  {
   "cell_type": "code",
   "execution_count": 17,
   "metadata": {},
   "outputs": [],
   "source": [
    "def RecommendationSytem(dataframe,titles):\n",
    "    similarity=cosine_similarity(dataframe,dataframe)\n",
    "    similarity=pd.DataFrame(similarity,columns=df.title,index=df.title)\n",
    "    print(similarity[titles].sort_values(ascending=False).head(10))"
   ]
  },
  {
   "cell_type": "code",
   "execution_count": 18,
   "metadata": {},
   "outputs": [
    {
     "name": "stdout",
     "output_type": "stream",
     "text": [
      "title\n",
      "Toy Story                                   1.0\n",
      "Turbo                                       1.0\n",
      "Monsters, Inc.                              1.0\n",
      "Moana                                       1.0\n",
      "Emperor's New Groove, The                   1.0\n",
      "Adventures of Rocky and Bullwinkle, The     1.0\n",
      "Toy Story 2                                 1.0\n",
      "Wild, The                                   1.0\n",
      "The Good Dinosaur                           1.0\n",
      "Tale of Despereaux, The                     1.0\n",
      "Name: Toy Story , dtype: float64\n"
     ]
    }
   ],
   "source": [
    "RecommendationSytem(XDF,'Toy Story ')"
   ]
  },
  {
   "cell_type": "code",
   "execution_count": 19,
   "metadata": {},
   "outputs": [
    {
     "name": "stdout",
     "output_type": "stream",
     "text": [
      "title\n",
      "Toy Story                                   1.0\n",
      "Turbo                                       1.0\n",
      "Monsters, Inc.                              1.0\n",
      "Moana                                       1.0\n",
      "Emperor's New Groove, The                   1.0\n",
      "Adventures of Rocky and Bullwinkle, The     1.0\n",
      "Toy Story 2                                 1.0\n",
      "Wild, The                                   1.0\n",
      "The Good Dinosaur                           1.0\n",
      "Tale of Despereaux, The                     1.0\n",
      "Name: Turbo , dtype: float64\n"
     ]
    }
   ],
   "source": [
    "RecommendationSytem(XDF,'Turbo ')"
   ]
  },
  {
   "cell_type": "code",
   "execution_count": 24,
   "metadata": {},
   "outputs": [],
   "source": [
    "similarity=cosine_similarity(XDF,XDF)\n",
    "similarity=pd.DataFrame(similarity,columns=df.title,index=df.title)\n",
    "def RecommendationSytem1(titles):\n",
    "    #similarity=cosine_similarity(dataframe,dataframe)\n",
    "    #similarity=pd.DataFrame(similarity,columns=df.title,index=df.title)\n",
    "    print(similarity[titles].sort_values(ascending=False).head(10))"
   ]
  },
  {
   "cell_type": "code",
   "execution_count": 25,
   "metadata": {},
   "outputs": [
    {
     "name": "stdout",
     "output_type": "stream",
     "text": [
      "title\n",
      "Toy Story                                   1.0\n",
      "Turbo                                       1.0\n",
      "Monsters, Inc.                              1.0\n",
      "Moana                                       1.0\n",
      "Emperor's New Groove, The                   1.0\n",
      "Adventures of Rocky and Bullwinkle, The     1.0\n",
      "Toy Story 2                                 1.0\n",
      "Wild, The                                   1.0\n",
      "The Good Dinosaur                           1.0\n",
      "Tale of Despereaux, The                     1.0\n",
      "Name: Turbo , dtype: float64\n"
     ]
    }
   ],
   "source": [
    "RecommendationSytem1('Turbo ')"
   ]
  },
  {
   "cell_type": "code",
   "execution_count": null,
   "metadata": {},
   "outputs": [],
   "source": []
  }
 ],
 "metadata": {
  "kernelspec": {
   "display_name": "Python 3",
   "language": "python",
   "name": "python3"
  },
  "language_info": {
   "codemirror_mode": {
    "name": "ipython",
    "version": 3
   },
   "file_extension": ".py",
   "mimetype": "text/x-python",
   "name": "python",
   "nbconvert_exporter": "python",
   "pygments_lexer": "ipython3",
   "version": "3.6.5"
  }
 },
 "nbformat": 4,
 "nbformat_minor": 2
}
