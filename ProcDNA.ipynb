{
 "cells": [
  {
   "cell_type": "code",
   "execution_count": 1,
   "metadata": {},
   "outputs": [],
   "source": [
    "import pandas as pd\n",
    "import numpy as np\n",
    "import matplotlib.pyplot as plt\n",
    "import seaborn as sns"
   ]
  },
  {
   "cell_type": "code",
   "execution_count": 2,
   "metadata": {},
   "outputs": [
    {
     "name": "stderr",
     "output_type": "stream",
     "text": [
      "C:\\Users\\52070730\\AppData\\Local\\Continuum\\anaconda3\\lib\\site-packages\\IPython\\core\\interactiveshell.py:3057: DtypeWarning: Columns (10) have mixed types. Specify dtype option on import or set low_memory=False.\n",
      "  interactivity=interactivity, compiler=compiler, result=result)\n"
     ]
    }
   ],
   "source": [
    "data=pd.read_csv('Medicare_Physician_and_Other_Supplier_National_Provider_Identifier__NPI__Aggregate_Report__Calendar_Year_2017.csv')\n"
   ]
  },
  {
   "cell_type": "code",
   "execution_count": 3,
   "metadata": {},
   "outputs": [
    {
     "data": {
      "text/plain": [
       "(1088687, 71)"
      ]
     },
     "execution_count": 3,
     "metadata": {},
     "output_type": "execute_result"
    }
   ],
   "source": [
    "data.shape"
   ]
  },
  {
   "cell_type": "code",
   "execution_count": 4,
   "metadata": {},
   "outputs": [],
   "source": [
    "pd.set_option('display.max_rows', 500)\n",
    "pd.set_option('display.max_columns', 500)\n",
    "pd.set_option('display.width', 1000)"
   ]
  },
  {
   "cell_type": "code",
   "execution_count": 5,
   "metadata": {},
   "outputs": [
    {
     "data": {
      "text/html": [
       "<div>\n",
       "<style scoped>\n",
       "    .dataframe tbody tr th:only-of-type {\n",
       "        vertical-align: middle;\n",
       "    }\n",
       "\n",
       "    .dataframe tbody tr th {\n",
       "        vertical-align: top;\n",
       "    }\n",
       "\n",
       "    .dataframe thead th {\n",
       "        text-align: right;\n",
       "    }\n",
       "</style>\n",
       "<table border=\"1\" class=\"dataframe\">\n",
       "  <thead>\n",
       "    <tr style=\"text-align: right;\">\n",
       "      <th></th>\n",
       "      <th>National Provider Identifier</th>\n",
       "      <th>Provider RUCA</th>\n",
       "      <th>Number of HCPCS</th>\n",
       "      <th>Number of Services</th>\n",
       "      <th>Number of Medicare Beneficiaries</th>\n",
       "      <th>Total Submitted Charge Amount</th>\n",
       "      <th>Total Medicare Allowed Amount</th>\n",
       "      <th>Total Medicare Payment Amount</th>\n",
       "      <th>Total Medicare Standardized Payment Amount</th>\n",
       "      <th>Number of HCPCS Associated With Drug Services</th>\n",
       "      <th>Number of Drug Services</th>\n",
       "      <th>Number of Medicare Beneficiaries With Drug Services</th>\n",
       "      <th>Total Drug Submitted Charge Amount</th>\n",
       "      <th>Total Drug Medicare Allowed Amount</th>\n",
       "      <th>Total Drug Medicare Payment Amount</th>\n",
       "      <th>Total Drug Medicare Standardized Payment Amount</th>\n",
       "      <th>Number of HCPCS Associated With Medical Services</th>\n",
       "      <th>Number of Medical Services</th>\n",
       "      <th>Number of Medicare Beneficiaries With Medical Services</th>\n",
       "      <th>Total Medical Submitted Charge Amount</th>\n",
       "      <th>Total Medical Medicare Allowed Amount</th>\n",
       "      <th>Total Medical Medicare Payment Amount</th>\n",
       "      <th>Total Medical Medicare Standardized Payment Amount</th>\n",
       "      <th>Average Age of Beneficiaries</th>\n",
       "      <th>Number of Beneficiaries Age Less 65</th>\n",
       "      <th>Number of Beneficiaries Age 65 to 74</th>\n",
       "      <th>Number of Beneficiaries Age 75 to 84</th>\n",
       "      <th>Number of Beneficiaries Age Greater 84</th>\n",
       "      <th>Number of Female Beneficiaries</th>\n",
       "      <th>Number of Male Beneficiaries</th>\n",
       "      <th>Number of Non-Hispanic White Beneficiaries</th>\n",
       "      <th>Number of Black or African American Beneficiaries</th>\n",
       "      <th>Number of Asian Pacific Islander Beneficiaries</th>\n",
       "      <th>Number of Hispanic Beneficiaries</th>\n",
       "      <th>Number of American Indian/Alaska Native Beneficiaries</th>\n",
       "      <th>Number of Beneficiaries With Race Not Elsewhere Classified</th>\n",
       "      <th>Number of Beneficiaries With Medicare Only Entitlement</th>\n",
       "      <th>Number of Beneficiaries With Medicare &amp; Medicaid Entitlement</th>\n",
       "      <th>Percent (%) of Beneficiaries Identified With Atrial Fibrillation</th>\n",
       "      <th>Percent (%) of Beneficiaries Identified With Alzheimer’s Disease or Dementia</th>\n",
       "      <th>Percent (%) of Beneficiaries Identified With Asthma</th>\n",
       "      <th>Percent (%) of Beneficiaries Identified With Cancer</th>\n",
       "      <th>Percent (%) of Beneficiaries Identified With Heart Failure</th>\n",
       "      <th>Percent (%) of Beneficiaries Identified With Chronic Kidney Disease</th>\n",
       "      <th>Percent (%) of Beneficiaries Identified With Chronic Obstructive Pulmonary Disease</th>\n",
       "      <th>Percent (%) of Beneficiaries Identified With Depression</th>\n",
       "      <th>Percent (%) of Beneficiaries Identified With Diabetes</th>\n",
       "      <th>Percent (%) of Beneficiaries Identified With Hyperlipidemia</th>\n",
       "      <th>Percent (%) of Beneficiaries Identified With Hypertension</th>\n",
       "      <th>Percent (%) of Beneficiaries Identified With Ischemic Heart Disease</th>\n",
       "      <th>Percent (%) of Beneficiaries Identified With Osteoporosis</th>\n",
       "      <th>Percent (%) of Beneficiaries Identified With Rheumatoid Arthritis / Osteoarthritis</th>\n",
       "      <th>Percent (%) of Beneficiaries Identified With Schizophrenia / Other Psychotic Disorders</th>\n",
       "      <th>Percent (%) of Beneficiaries Identified With Stroke</th>\n",
       "      <th>Average HCC Risk Score of Beneficiaries</th>\n",
       "    </tr>\n",
       "  </thead>\n",
       "  <tbody>\n",
       "    <tr>\n",
       "      <th>count</th>\n",
       "      <td>1.088687e+06</td>\n",
       "      <td>1.081476e+06</td>\n",
       "      <td>1.088687e+06</td>\n",
       "      <td>1.088687e+06</td>\n",
       "      <td>1.088687e+06</td>\n",
       "      <td>1.088687e+06</td>\n",
       "      <td>1.088687e+06</td>\n",
       "      <td>1.088687e+06</td>\n",
       "      <td>1.088687e+06</td>\n",
       "      <td>974072.000000</td>\n",
       "      <td>9.740720e+05</td>\n",
       "      <td>974072.000000</td>\n",
       "      <td>9.740720e+05</td>\n",
       "      <td>9.740720e+05</td>\n",
       "      <td>9.740720e+05</td>\n",
       "      <td>9.740720e+05</td>\n",
       "      <td>974072.000000</td>\n",
       "      <td>9.740720e+05</td>\n",
       "      <td>9.740720e+05</td>\n",
       "      <td>9.740720e+05</td>\n",
       "      <td>9.740720e+05</td>\n",
       "      <td>9.740720e+05</td>\n",
       "      <td>9.740720e+05</td>\n",
       "      <td>1.088687e+06</td>\n",
       "      <td>703800.000000</td>\n",
       "      <td>917912.000000</td>\n",
       "      <td>777508.000000</td>\n",
       "      <td>640677.000000</td>\n",
       "      <td>969611.000000</td>\n",
       "      <td>969611.000000</td>\n",
       "      <td>7.359840e+05</td>\n",
       "      <td>373993.000000</td>\n",
       "      <td>194174.000000</td>\n",
       "      <td>289083.000000</td>\n",
       "      <td>329303.000000</td>\n",
       "      <td>175071.000000</td>\n",
       "      <td>8.155600e+05</td>\n",
       "      <td>815560.000000</td>\n",
       "      <td>741411.000000</td>\n",
       "      <td>736259.000000</td>\n",
       "      <td>678916.000000</td>\n",
       "      <td>733004.000000</td>\n",
       "      <td>817602.000000</td>\n",
       "      <td>921763.000000</td>\n",
       "      <td>798311.000000</td>\n",
       "      <td>928809.000000</td>\n",
       "      <td>934900.000000</td>\n",
       "      <td>992853.000000</td>\n",
       "      <td>1.031998e+06</td>\n",
       "      <td>927158.000000</td>\n",
       "      <td>681480.000000</td>\n",
       "      <td>986548.000000</td>\n",
       "      <td>501102.000000</td>\n",
       "      <td>595309.000000</td>\n",
       "      <td>1.088687e+06</td>\n",
       "    </tr>\n",
       "    <tr>\n",
       "      <th>mean</th>\n",
       "      <td>1.499726e+09</td>\n",
       "      <td>1.568721e+00</td>\n",
       "      <td>3.071504e+01</td>\n",
       "      <td>2.708049e+03</td>\n",
       "      <td>3.550545e+02</td>\n",
       "      <td>3.513208e+05</td>\n",
       "      <td>1.177331e+05</td>\n",
       "      <td>8.998250e+04</td>\n",
       "      <td>9.074084e+04</td>\n",
       "      <td>1.965088</td>\n",
       "      <td>1.161425e+03</td>\n",
       "      <td>28.123060</td>\n",
       "      <td>3.602838e+04</td>\n",
       "      <td>1.719695e+04</td>\n",
       "      <td>1.356678e+04</td>\n",
       "      <td>1.370174e+04</td>\n",
       "      <td>28.454297</td>\n",
       "      <td>1.693131e+03</td>\n",
       "      <td>3.596554e+02</td>\n",
       "      <td>3.239278e+05</td>\n",
       "      <td>1.031280e+05</td>\n",
       "      <td>7.859773e+04</td>\n",
       "      <td>7.922531e+04</td>\n",
       "      <td>7.075125e+01</td>\n",
       "      <td>82.016496</td>\n",
       "      <td>167.483221</td>\n",
       "      <td>140.108391</td>\n",
       "      <td>85.098006</td>\n",
       "      <td>226.793136</td>\n",
       "      <td>167.923722</td>\n",
       "      <td>3.890453e+02</td>\n",
       "      <td>84.238644</td>\n",
       "      <td>29.623657</td>\n",
       "      <td>58.292407</td>\n",
       "      <td>3.569391</td>\n",
       "      <td>21.190745</td>\n",
       "      <td>3.366249e+02</td>\n",
       "      <td>112.618944</td>\n",
       "      <td>15.259084</td>\n",
       "      <td>18.518633</td>\n",
       "      <td>10.367387</td>\n",
       "      <td>13.903554</td>\n",
       "      <td>26.270771</td>\n",
       "      <td>38.582204</td>\n",
       "      <td>21.559018</td>\n",
       "      <td>32.359834</td>\n",
       "      <td>36.609974</td>\n",
       "      <td>53.239469</td>\n",
       "      <td>6.768048e+01</td>\n",
       "      <td>39.464277</td>\n",
       "      <td>10.106426</td>\n",
       "      <td>47.827940</td>\n",
       "      <td>7.775732</td>\n",
       "      <td>8.732529</td>\n",
       "      <td>1.624142e+00</td>\n",
       "    </tr>\n",
       "    <tr>\n",
       "      <th>std</th>\n",
       "      <td>2.879212e+08</td>\n",
       "      <td>1.604442e+00</td>\n",
       "      <td>3.375675e+01</td>\n",
       "      <td>3.767005e+04</td>\n",
       "      <td>2.914876e+03</td>\n",
       "      <td>2.569238e+06</td>\n",
       "      <td>6.003066e+05</td>\n",
       "      <td>5.366049e+05</td>\n",
       "      <td>5.404147e+05</td>\n",
       "      <td>5.488710</td>\n",
       "      <td>1.862010e+04</td>\n",
       "      <td>276.355451</td>\n",
       "      <td>4.433434e+05</td>\n",
       "      <td>1.946327e+05</td>\n",
       "      <td>1.517088e+05</td>\n",
       "      <td>1.531190e+05</td>\n",
       "      <td>32.729121</td>\n",
       "      <td>3.269619e+04</td>\n",
       "      <td>3.074045e+03</td>\n",
       "      <td>2.644524e+06</td>\n",
       "      <td>5.841436e+05</td>\n",
       "      <td>5.333766e+05</td>\n",
       "      <td>5.370298e+05</td>\n",
       "      <td>5.938133e+00</td>\n",
       "      <td>554.140165</td>\n",
       "      <td>1448.762962</td>\n",
       "      <td>961.848562</td>\n",
       "      <td>517.417433</td>\n",
       "      <td>1814.088443</td>\n",
       "      <td>1277.353924</td>\n",
       "      <td>2.738244e+03</td>\n",
       "      <td>662.746411</td>\n",
       "      <td>304.186644</td>\n",
       "      <td>438.811223</td>\n",
       "      <td>32.644070</td>\n",
       "      <td>172.391192</td>\n",
       "      <td>2.654101e+03</td>\n",
       "      <td>792.454561</td>\n",
       "      <td>9.181789</td>\n",
       "      <td>14.912872</td>\n",
       "      <td>5.446591</td>\n",
       "      <td>9.977256</td>\n",
       "      <td>15.876372</td>\n",
       "      <td>16.443066</td>\n",
       "      <td>11.733989</td>\n",
       "      <td>15.217603</td>\n",
       "      <td>12.583934</td>\n",
       "      <td>12.786220</td>\n",
       "      <td>9.705115e+00</td>\n",
       "      <td>15.111741</td>\n",
       "      <td>5.403272</td>\n",
       "      <td>12.624866</td>\n",
       "      <td>13.081047</td>\n",
       "      <td>8.193127</td>\n",
       "      <td>7.992442e-01</td>\n",
       "    </tr>\n",
       "    <tr>\n",
       "      <th>min</th>\n",
       "      <td>1.003000e+09</td>\n",
       "      <td>1.000000e+00</td>\n",
       "      <td>1.000000e+00</td>\n",
       "      <td>1.100000e+01</td>\n",
       "      <td>1.100000e+01</td>\n",
       "      <td>3.350000e+01</td>\n",
       "      <td>3.300000e+01</td>\n",
       "      <td>0.000000e+00</td>\n",
       "      <td>0.000000e+00</td>\n",
       "      <td>0.000000</td>\n",
       "      <td>0.000000e+00</td>\n",
       "      <td>0.000000</td>\n",
       "      <td>0.000000e+00</td>\n",
       "      <td>0.000000e+00</td>\n",
       "      <td>0.000000e+00</td>\n",
       "      <td>0.000000e+00</td>\n",
       "      <td>0.000000</td>\n",
       "      <td>0.000000e+00</td>\n",
       "      <td>0.000000e+00</td>\n",
       "      <td>0.000000e+00</td>\n",
       "      <td>0.000000e+00</td>\n",
       "      <td>0.000000e+00</td>\n",
       "      <td>0.000000e+00</td>\n",
       "      <td>8.000000e+00</td>\n",
       "      <td>0.000000</td>\n",
       "      <td>0.000000</td>\n",
       "      <td>0.000000</td>\n",
       "      <td>0.000000</td>\n",
       "      <td>0.000000</td>\n",
       "      <td>0.000000</td>\n",
       "      <td>0.000000e+00</td>\n",
       "      <td>0.000000</td>\n",
       "      <td>0.000000</td>\n",
       "      <td>0.000000</td>\n",
       "      <td>0.000000</td>\n",
       "      <td>0.000000</td>\n",
       "      <td>0.000000e+00</td>\n",
       "      <td>0.000000</td>\n",
       "      <td>0.000000</td>\n",
       "      <td>0.000000</td>\n",
       "      <td>0.000000</td>\n",
       "      <td>0.000000</td>\n",
       "      <td>0.000000</td>\n",
       "      <td>0.000000</td>\n",
       "      <td>0.000000</td>\n",
       "      <td>0.000000</td>\n",
       "      <td>0.000000</td>\n",
       "      <td>0.000000</td>\n",
       "      <td>0.000000e+00</td>\n",
       "      <td>0.000000</td>\n",
       "      <td>0.000000</td>\n",
       "      <td>0.000000</td>\n",
       "      <td>0.000000</td>\n",
       "      <td>0.000000</td>\n",
       "      <td>3.541000e-01</td>\n",
       "    </tr>\n",
       "    <tr>\n",
       "      <th>25%</th>\n",
       "      <td>1.245752e+09</td>\n",
       "      <td>1.000000e+00</td>\n",
       "      <td>9.000000e+00</td>\n",
       "      <td>1.870000e+02</td>\n",
       "      <td>6.500000e+01</td>\n",
       "      <td>3.147709e+04</td>\n",
       "      <td>1.395426e+04</td>\n",
       "      <td>1.042067e+04</td>\n",
       "      <td>1.069726e+04</td>\n",
       "      <td>0.000000</td>\n",
       "      <td>0.000000e+00</td>\n",
       "      <td>0.000000</td>\n",
       "      <td>0.000000e+00</td>\n",
       "      <td>0.000000e+00</td>\n",
       "      <td>0.000000e+00</td>\n",
       "      <td>0.000000e+00</td>\n",
       "      <td>8.000000</td>\n",
       "      <td>1.750000e+02</td>\n",
       "      <td>6.600000e+01</td>\n",
       "      <td>3.206500e+04</td>\n",
       "      <td>1.335816e+04</td>\n",
       "      <td>9.771807e+03</td>\n",
       "      <td>1.007289e+04</td>\n",
       "      <td>6.900000e+01</td>\n",
       "      <td>24.000000</td>\n",
       "      <td>43.000000</td>\n",
       "      <td>37.000000</td>\n",
       "      <td>20.000000</td>\n",
       "      <td>53.000000</td>\n",
       "      <td>36.000000</td>\n",
       "      <td>9.600000e+01</td>\n",
       "      <td>16.000000</td>\n",
       "      <td>0.000000</td>\n",
       "      <td>13.000000</td>\n",
       "      <td>0.000000</td>\n",
       "      <td>0.000000</td>\n",
       "      <td>7.600000e+01</td>\n",
       "      <td>24.000000</td>\n",
       "      <td>10.000000</td>\n",
       "      <td>9.000000</td>\n",
       "      <td>7.000000</td>\n",
       "      <td>9.000000</td>\n",
       "      <td>14.000000</td>\n",
       "      <td>25.000000</td>\n",
       "      <td>13.000000</td>\n",
       "      <td>22.000000</td>\n",
       "      <td>28.000000</td>\n",
       "      <td>45.000000</td>\n",
       "      <td>6.300000e+01</td>\n",
       "      <td>28.000000</td>\n",
       "      <td>7.000000</td>\n",
       "      <td>39.000000</td>\n",
       "      <td>0.000000</td>\n",
       "      <td>4.000000</td>\n",
       "      <td>1.076100e+00</td>\n",
       "    </tr>\n",
       "    <tr>\n",
       "      <th>50%</th>\n",
       "      <td>1.497981e+09</td>\n",
       "      <td>1.000000e+00</td>\n",
       "      <td>1.900000e+01</td>\n",
       "      <td>5.280000e+02</td>\n",
       "      <td>1.680000e+02</td>\n",
       "      <td>1.134810e+05</td>\n",
       "      <td>4.091701e+04</td>\n",
       "      <td>3.039429e+04</td>\n",
       "      <td>3.090435e+04</td>\n",
       "      <td>0.000000</td>\n",
       "      <td>0.000000e+00</td>\n",
       "      <td>0.000000</td>\n",
       "      <td>0.000000e+00</td>\n",
       "      <td>0.000000e+00</td>\n",
       "      <td>0.000000e+00</td>\n",
       "      <td>0.000000e+00</td>\n",
       "      <td>18.000000</td>\n",
       "      <td>4.930000e+02</td>\n",
       "      <td>1.700000e+02</td>\n",
       "      <td>1.146337e+05</td>\n",
       "      <td>4.062015e+04</td>\n",
       "      <td>2.990836e+04</td>\n",
       "      <td>3.034768e+04</td>\n",
       "      <td>7.200000e+01</td>\n",
       "      <td>44.000000</td>\n",
       "      <td>87.000000</td>\n",
       "      <td>72.000000</td>\n",
       "      <td>40.000000</td>\n",
       "      <td>113.000000</td>\n",
       "      <td>82.000000</td>\n",
       "      <td>2.060000e+02</td>\n",
       "      <td>36.000000</td>\n",
       "      <td>0.000000</td>\n",
       "      <td>25.000000</td>\n",
       "      <td>0.000000</td>\n",
       "      <td>14.000000</td>\n",
       "      <td>1.680000e+02</td>\n",
       "      <td>51.000000</td>\n",
       "      <td>13.000000</td>\n",
       "      <td>14.000000</td>\n",
       "      <td>10.000000</td>\n",
       "      <td>12.000000</td>\n",
       "      <td>22.000000</td>\n",
       "      <td>36.000000</td>\n",
       "      <td>19.000000</td>\n",
       "      <td>29.000000</td>\n",
       "      <td>35.000000</td>\n",
       "      <td>54.000000</td>\n",
       "      <td>7.300000e+01</td>\n",
       "      <td>37.000000</td>\n",
       "      <td>10.000000</td>\n",
       "      <td>46.000000</td>\n",
       "      <td>4.000000</td>\n",
       "      <td>7.000000</td>\n",
       "      <td>1.403200e+00</td>\n",
       "    </tr>\n",
       "    <tr>\n",
       "      <th>75%</th>\n",
       "      <td>1.740726e+09</td>\n",
       "      <td>1.100000e+00</td>\n",
       "      <td>4.100000e+01</td>\n",
       "      <td>1.542000e+03</td>\n",
       "      <td>3.720000e+02</td>\n",
       "      <td>3.203882e+05</td>\n",
       "      <td>1.091442e+05</td>\n",
       "      <td>8.168576e+04</td>\n",
       "      <td>8.240264e+04</td>\n",
       "      <td>2.000000</td>\n",
       "      <td>2.800000e+01</td>\n",
       "      <td>15.000000</td>\n",
       "      <td>8.040000e+02</td>\n",
       "      <td>2.481525e+02</td>\n",
       "      <td>1.933900e+02</td>\n",
       "      <td>1.959300e+02</td>\n",
       "      <td>38.000000</td>\n",
       "      <td>1.370000e+03</td>\n",
       "      <td>3.730000e+02</td>\n",
       "      <td>3.146954e+05</td>\n",
       "      <td>1.056753e+05</td>\n",
       "      <td>7.878730e+04</td>\n",
       "      <td>7.944109e+04</td>\n",
       "      <td>7.400000e+01</td>\n",
       "      <td>84.000000</td>\n",
       "      <td>170.000000</td>\n",
       "      <td>142.000000</td>\n",
       "      <td>88.000000</td>\n",
       "      <td>233.000000</td>\n",
       "      <td>175.000000</td>\n",
       "      <td>4.060000e+02</td>\n",
       "      <td>83.000000</td>\n",
       "      <td>25.000000</td>\n",
       "      <td>53.000000</td>\n",
       "      <td>0.000000</td>\n",
       "      <td>24.000000</td>\n",
       "      <td>3.470000e+02</td>\n",
       "      <td>112.000000</td>\n",
       "      <td>20.000000</td>\n",
       "      <td>25.000000</td>\n",
       "      <td>13.000000</td>\n",
       "      <td>16.000000</td>\n",
       "      <td>37.000000</td>\n",
       "      <td>50.000000</td>\n",
       "      <td>28.000000</td>\n",
       "      <td>39.000000</td>\n",
       "      <td>44.000000</td>\n",
       "      <td>63.000000</td>\n",
       "      <td>7.500000e+01</td>\n",
       "      <td>50.000000</td>\n",
       "      <td>12.000000</td>\n",
       "      <td>55.000000</td>\n",
       "      <td>8.000000</td>\n",
       "      <td>12.000000</td>\n",
       "      <td>1.972900e+00</td>\n",
       "    </tr>\n",
       "    <tr>\n",
       "      <th>max</th>\n",
       "      <td>1.993000e+09</td>\n",
       "      <td>1.030000e+01</td>\n",
       "      <td>1.095000e+03</td>\n",
       "      <td>1.457466e+07</td>\n",
       "      <td>1.575978e+06</td>\n",
       "      <td>1.025413e+09</td>\n",
       "      <td>2.334734e+08</td>\n",
       "      <td>2.281665e+08</td>\n",
       "      <td>2.378553e+08</td>\n",
       "      <td>129.000000</td>\n",
       "      <td>1.239863e+07</td>\n",
       "      <td>172269.000000</td>\n",
       "      <td>9.252335e+07</td>\n",
       "      <td>3.764747e+07</td>\n",
       "      <td>2.950822e+07</td>\n",
       "      <td>2.950822e+07</td>\n",
       "      <td>1090.000000</td>\n",
       "      <td>1.457466e+07</td>\n",
       "      <td>1.575978e+06</td>\n",
       "      <td>1.025413e+09</td>\n",
       "      <td>2.334734e+08</td>\n",
       "      <td>2.281665e+08</td>\n",
       "      <td>2.378553e+08</td>\n",
       "      <td>9.300000e+01</td>\n",
       "      <td>265970.000000</td>\n",
       "      <td>741704.000000</td>\n",
       "      <td>415321.000000</td>\n",
       "      <td>203495.000000</td>\n",
       "      <td>933107.000000</td>\n",
       "      <td>642871.000000</td>\n",
       "      <td>1.175730e+06</td>\n",
       "      <td>285883.000000</td>\n",
       "      <td>70360.000000</td>\n",
       "      <td>119332.000000</td>\n",
       "      <td>5104.000000</td>\n",
       "      <td>32606.000000</td>\n",
       "      <td>1.257980e+06</td>\n",
       "      <td>317998.000000</td>\n",
       "      <td>75.000000</td>\n",
       "      <td>75.000000</td>\n",
       "      <td>75.000000</td>\n",
       "      <td>75.000000</td>\n",
       "      <td>75.000000</td>\n",
       "      <td>75.000000</td>\n",
       "      <td>75.000000</td>\n",
       "      <td>75.000000</td>\n",
       "      <td>75.000000</td>\n",
       "      <td>75.000000</td>\n",
       "      <td>7.500000e+01</td>\n",
       "      <td>75.000000</td>\n",
       "      <td>75.000000</td>\n",
       "      <td>75.000000</td>\n",
       "      <td>75.000000</td>\n",
       "      <td>75.000000</td>\n",
       "      <td>1.334010e+01</td>\n",
       "    </tr>\n",
       "  </tbody>\n",
       "</table>\n",
       "</div>"
      ],
      "text/plain": [
       "       National Provider Identifier  Provider RUCA  Number of HCPCS  Number of Services  Number of Medicare Beneficiaries  Total Submitted Charge Amount  Total Medicare Allowed Amount  Total Medicare Payment Amount  Total Medicare Standardized Payment Amount  Number of HCPCS Associated With Drug Services  Number of Drug Services  Number of Medicare Beneficiaries With Drug Services  Total Drug Submitted Charge Amount  Total Drug Medicare Allowed Amount  Total Drug Medicare Payment Amount  Total Drug Medicare Standardized Payment Amount  Number of HCPCS Associated With Medical Services  Number of Medical Services  Number of Medicare Beneficiaries With Medical Services  Total Medical Submitted Charge Amount  Total Medical Medicare Allowed Amount  Total Medical Medicare Payment Amount  Total Medical Medicare Standardized Payment Amount  Average Age of Beneficiaries  Number of Beneficiaries Age Less 65  Number of Beneficiaries Age 65 to 74  Number of Beneficiaries Age 75 to 84  \\\n",
       "count                  1.088687e+06   1.081476e+06     1.088687e+06        1.088687e+06                      1.088687e+06                   1.088687e+06                   1.088687e+06                   1.088687e+06                                1.088687e+06                                  974072.000000             9.740720e+05                                      974072.000000                          9.740720e+05                        9.740720e+05                        9.740720e+05                                     9.740720e+05                                     974072.000000                9.740720e+05                                       9.740720e+05                                9.740720e+05                           9.740720e+05                           9.740720e+05                                       9.740720e+05                   1.088687e+06                        703800.000000                         917912.000000                         777508.000000   \n",
       "mean                   1.499726e+09   1.568721e+00     3.071504e+01        2.708049e+03                      3.550545e+02                   3.513208e+05                   1.177331e+05                   8.998250e+04                                9.074084e+04                                       1.965088             1.161425e+03                                          28.123060                          3.602838e+04                        1.719695e+04                        1.356678e+04                                     1.370174e+04                                         28.454297                1.693131e+03                                       3.596554e+02                                3.239278e+05                           1.031280e+05                           7.859773e+04                                       7.922531e+04                   7.075125e+01                            82.016496                            167.483221                            140.108391   \n",
       "std                    2.879212e+08   1.604442e+00     3.375675e+01        3.767005e+04                      2.914876e+03                   2.569238e+06                   6.003066e+05                   5.366049e+05                                5.404147e+05                                       5.488710             1.862010e+04                                         276.355451                          4.433434e+05                        1.946327e+05                        1.517088e+05                                     1.531190e+05                                         32.729121                3.269619e+04                                       3.074045e+03                                2.644524e+06                           5.841436e+05                           5.333766e+05                                       5.370298e+05                   5.938133e+00                           554.140165                           1448.762962                            961.848562   \n",
       "min                    1.003000e+09   1.000000e+00     1.000000e+00        1.100000e+01                      1.100000e+01                   3.350000e+01                   3.300000e+01                   0.000000e+00                                0.000000e+00                                       0.000000             0.000000e+00                                           0.000000                          0.000000e+00                        0.000000e+00                        0.000000e+00                                     0.000000e+00                                          0.000000                0.000000e+00                                       0.000000e+00                                0.000000e+00                           0.000000e+00                           0.000000e+00                                       0.000000e+00                   8.000000e+00                             0.000000                              0.000000                              0.000000   \n",
       "25%                    1.245752e+09   1.000000e+00     9.000000e+00        1.870000e+02                      6.500000e+01                   3.147709e+04                   1.395426e+04                   1.042067e+04                                1.069726e+04                                       0.000000             0.000000e+00                                           0.000000                          0.000000e+00                        0.000000e+00                        0.000000e+00                                     0.000000e+00                                          8.000000                1.750000e+02                                       6.600000e+01                                3.206500e+04                           1.335816e+04                           9.771807e+03                                       1.007289e+04                   6.900000e+01                            24.000000                             43.000000                             37.000000   \n",
       "50%                    1.497981e+09   1.000000e+00     1.900000e+01        5.280000e+02                      1.680000e+02                   1.134810e+05                   4.091701e+04                   3.039429e+04                                3.090435e+04                                       0.000000             0.000000e+00                                           0.000000                          0.000000e+00                        0.000000e+00                        0.000000e+00                                     0.000000e+00                                         18.000000                4.930000e+02                                       1.700000e+02                                1.146337e+05                           4.062015e+04                           2.990836e+04                                       3.034768e+04                   7.200000e+01                            44.000000                             87.000000                             72.000000   \n",
       "75%                    1.740726e+09   1.100000e+00     4.100000e+01        1.542000e+03                      3.720000e+02                   3.203882e+05                   1.091442e+05                   8.168576e+04                                8.240264e+04                                       2.000000             2.800000e+01                                          15.000000                          8.040000e+02                        2.481525e+02                        1.933900e+02                                     1.959300e+02                                         38.000000                1.370000e+03                                       3.730000e+02                                3.146954e+05                           1.056753e+05                           7.878730e+04                                       7.944109e+04                   7.400000e+01                            84.000000                            170.000000                            142.000000   \n",
       "max                    1.993000e+09   1.030000e+01     1.095000e+03        1.457466e+07                      1.575978e+06                   1.025413e+09                   2.334734e+08                   2.281665e+08                                2.378553e+08                                     129.000000             1.239863e+07                                      172269.000000                          9.252335e+07                        3.764747e+07                        2.950822e+07                                     2.950822e+07                                       1090.000000                1.457466e+07                                       1.575978e+06                                1.025413e+09                           2.334734e+08                           2.281665e+08                                       2.378553e+08                   9.300000e+01                        265970.000000                         741704.000000                         415321.000000   \n",
       "\n",
       "       Number of Beneficiaries Age Greater 84  Number of Female Beneficiaries  Number of Male Beneficiaries\\t  Number of Non-Hispanic White Beneficiaries\\t  Number of Black or African American Beneficiaries  Number of Asian Pacific Islander Beneficiaries  Number of Hispanic Beneficiaries  Number of American Indian/Alaska Native Beneficiaries  Number of Beneficiaries With Race Not Elsewhere Classified  Number of Beneficiaries With Medicare Only Entitlement  Number of Beneficiaries With Medicare & Medicaid Entitlement  Percent (%) of Beneficiaries Identified With Atrial Fibrillation  Percent (%) of Beneficiaries Identified With Alzheimer’s Disease or Dementia  Percent (%) of Beneficiaries Identified With Asthma  Percent (%) of Beneficiaries Identified With Cancer  Percent (%) of Beneficiaries Identified With Heart Failure  Percent (%) of Beneficiaries Identified With Chronic Kidney Disease  Percent (%) of Beneficiaries Identified With Chronic Obstructive Pulmonary Disease  \\\n",
       "count                           640677.000000                   969611.000000                   969611.000000                                  7.359840e+05                                      373993.000000                                   194174.000000                     289083.000000                                      329303.000000                                          175071.000000                                                8.155600e+05                                           815560.000000                                                 741411.000000                                                     736259.000000                                                                 678916.000000                                        733004.000000                                        817602.000000                                               921763.000000                                                        798311.000000                                    \n",
       "mean                                85.098006                      226.793136                      167.923722                                  3.890453e+02                                          84.238644                                       29.623657                         58.292407                                           3.569391                                              21.190745                                                3.366249e+02                                              112.618944                                                     15.259084                                                         18.518633                                                                     10.367387                                            13.903554                                            26.270771                                                   38.582204                                                            21.559018                                    \n",
       "std                                517.417433                     1814.088443                     1277.353924                                  2.738244e+03                                         662.746411                                      304.186644                        438.811223                                          32.644070                                             172.391192                                                2.654101e+03                                              792.454561                                                      9.181789                                                         14.912872                                                                      5.446591                                             9.977256                                            15.876372                                                   16.443066                                                            11.733989                                    \n",
       "min                                  0.000000                        0.000000                        0.000000                                  0.000000e+00                                           0.000000                                        0.000000                          0.000000                                           0.000000                                               0.000000                                                0.000000e+00                                                0.000000                                                      0.000000                                                          0.000000                                                                      0.000000                                             0.000000                                             0.000000                                                    0.000000                                                             0.000000                                    \n",
       "25%                                 20.000000                       53.000000                       36.000000                                  9.600000e+01                                          16.000000                                        0.000000                         13.000000                                           0.000000                                               0.000000                                                7.600000e+01                                               24.000000                                                     10.000000                                                          9.000000                                                                      7.000000                                             9.000000                                            14.000000                                                   25.000000                                                            13.000000                                    \n",
       "50%                                 40.000000                      113.000000                       82.000000                                  2.060000e+02                                          36.000000                                        0.000000                         25.000000                                           0.000000                                              14.000000                                                1.680000e+02                                               51.000000                                                     13.000000                                                         14.000000                                                                     10.000000                                            12.000000                                            22.000000                                                   36.000000                                                            19.000000                                    \n",
       "75%                                 88.000000                      233.000000                      175.000000                                  4.060000e+02                                          83.000000                                       25.000000                         53.000000                                           0.000000                                              24.000000                                                3.470000e+02                                              112.000000                                                     20.000000                                                         25.000000                                                                     13.000000                                            16.000000                                            37.000000                                                   50.000000                                                            28.000000                                    \n",
       "max                             203495.000000                   933107.000000                   642871.000000                                  1.175730e+06                                      285883.000000                                    70360.000000                     119332.000000                                        5104.000000                                           32606.000000                                                1.257980e+06                                           317998.000000                                                     75.000000                                                         75.000000                                                                     75.000000                                            75.000000                                            75.000000                                                   75.000000                                                            75.000000                                    \n",
       "\n",
       "       Percent (%) of Beneficiaries Identified With Depression  Percent (%) of Beneficiaries Identified With Diabetes  Percent (%) of Beneficiaries Identified With Hyperlipidemia  Percent (%) of Beneficiaries Identified With Hypertension  Percent (%) of Beneficiaries Identified With Ischemic Heart Disease  Percent (%) of Beneficiaries Identified With Osteoporosis  Percent (%) of Beneficiaries Identified With Rheumatoid Arthritis / Osteoarthritis  Percent (%) of Beneficiaries Identified With Schizophrenia / Other Psychotic Disorders  Percent (%) of Beneficiaries Identified With Stroke  Average HCC Risk Score of Beneficiaries  \n",
       "count                                      928809.000000                                            934900.000000                                          992853.000000                                                 1.031998e+06                                              927158.000000                                                        681480.000000                                              986548.000000                                                                       501102.000000                                                                           595309.000000                               1.088687e+06  \n",
       "mean                                           32.359834                                                36.609974                                              53.239469                                                 6.768048e+01                                                  39.464277                                                            10.106426                                                  47.827940                                                                            7.775732                                                                                8.732529                               1.624142e+00  \n",
       "std                                            15.217603                                                12.583934                                              12.786220                                                 9.705115e+00                                                  15.111741                                                             5.403272                                                  12.624866                                                                           13.081047                                                                                8.193127                               7.992442e-01  \n",
       "min                                             0.000000                                                 0.000000                                               0.000000                                                 0.000000e+00                                                   0.000000                                                             0.000000                                                   0.000000                                                                            0.000000                                                                                0.000000                               3.541000e-01  \n",
       "25%                                            22.000000                                                28.000000                                              45.000000                                                 6.300000e+01                                                  28.000000                                                             7.000000                                                  39.000000                                                                            0.000000                                                                                4.000000                               1.076100e+00  \n",
       "50%                                            29.000000                                                35.000000                                              54.000000                                                 7.300000e+01                                                  37.000000                                                            10.000000                                                  46.000000                                                                            4.000000                                                                                7.000000                               1.403200e+00  \n",
       "75%                                            39.000000                                                44.000000                                              63.000000                                                 7.500000e+01                                                  50.000000                                                            12.000000                                                  55.000000                                                                            8.000000                                                                               12.000000                               1.972900e+00  \n",
       "max                                            75.000000                                                75.000000                                              75.000000                                                 7.500000e+01                                                  75.000000                                                            75.000000                                                  75.000000                                                                           75.000000                                                                               75.000000                               1.334010e+01  "
      ]
     },
     "execution_count": 5,
     "metadata": {},
     "output_type": "execute_result"
    }
   ],
   "source": [
    "data.describe()"
   ]
  },
  {
   "cell_type": "code",
   "execution_count": 6,
   "metadata": {},
   "outputs": [
    {
     "data": {
      "text/html": [
       "<div>\n",
       "<style scoped>\n",
       "    .dataframe tbody tr th:only-of-type {\n",
       "        vertical-align: middle;\n",
       "    }\n",
       "\n",
       "    .dataframe tbody tr th {\n",
       "        vertical-align: top;\n",
       "    }\n",
       "\n",
       "    .dataframe thead th {\n",
       "        text-align: right;\n",
       "    }\n",
       "</style>\n",
       "<table border=\"1\" class=\"dataframe\">\n",
       "  <thead>\n",
       "    <tr style=\"text-align: right;\">\n",
       "      <th></th>\n",
       "      <th>National Provider Identifier</th>\n",
       "      <th>Last Name/Organization Name of the Provider</th>\n",
       "      <th>First Name of the Provider</th>\n",
       "      <th>Middle Initial of the Provider</th>\n",
       "      <th>Credentials of the Provider</th>\n",
       "      <th>Gender of the Provider</th>\n",
       "      <th>Entity Type of the Provider</th>\n",
       "      <th>Street Address 1 of the Provider</th>\n",
       "      <th>Street Address 2 of the Provider</th>\n",
       "      <th>City of the Provider</th>\n",
       "      <th>Zip Code of the Provider</th>\n",
       "      <th>Provider RUCA</th>\n",
       "      <th>State Code of the Provider</th>\n",
       "      <th>Country Code of the Provider</th>\n",
       "      <th>Provider Type of the Provider</th>\n",
       "      <th>Medicare Participation Indicator</th>\n",
       "      <th>Number of HCPCS</th>\n",
       "      <th>Number of Services</th>\n",
       "      <th>Number of Medicare Beneficiaries</th>\n",
       "      <th>Total Submitted Charge Amount</th>\n",
       "      <th>Total Medicare Allowed Amount</th>\n",
       "      <th>Total Medicare Payment Amount</th>\n",
       "      <th>Total Medicare Standardized Payment Amount</th>\n",
       "      <th>Drug Suppress Indicator</th>\n",
       "      <th>Number of HCPCS Associated With Drug Services</th>\n",
       "      <th>Number of Drug Services</th>\n",
       "      <th>Number of Medicare Beneficiaries With Drug Services</th>\n",
       "      <th>Total Drug Submitted Charge Amount</th>\n",
       "      <th>Total Drug Medicare Allowed Amount</th>\n",
       "      <th>Total Drug Medicare Payment Amount</th>\n",
       "      <th>Total Drug Medicare Standardized Payment Amount</th>\n",
       "      <th>Medical Suppress Indicator</th>\n",
       "      <th>Number of HCPCS Associated With Medical Services</th>\n",
       "      <th>Number of Medical Services</th>\n",
       "      <th>Number of Medicare Beneficiaries With Medical Services</th>\n",
       "      <th>Total Medical Submitted Charge Amount</th>\n",
       "      <th>Total Medical Medicare Allowed Amount</th>\n",
       "      <th>Total Medical Medicare Payment Amount</th>\n",
       "      <th>Total Medical Medicare Standardized Payment Amount</th>\n",
       "      <th>Average Age of Beneficiaries</th>\n",
       "      <th>Number of Beneficiaries Age Less 65</th>\n",
       "      <th>Number of Beneficiaries Age 65 to 74</th>\n",
       "      <th>Number of Beneficiaries Age 75 to 84</th>\n",
       "      <th>Number of Beneficiaries Age Greater 84</th>\n",
       "      <th>Number of Female Beneficiaries</th>\n",
       "      <th>Number of Male Beneficiaries</th>\n",
       "      <th>Number of Non-Hispanic White Beneficiaries</th>\n",
       "      <th>Number of Black or African American Beneficiaries</th>\n",
       "      <th>Number of Asian Pacific Islander Beneficiaries</th>\n",
       "      <th>Number of Hispanic Beneficiaries</th>\n",
       "      <th>Number of American Indian/Alaska Native Beneficiaries</th>\n",
       "      <th>Number of Beneficiaries With Race Not Elsewhere Classified</th>\n",
       "      <th>Number of Beneficiaries With Medicare Only Entitlement</th>\n",
       "      <th>Number of Beneficiaries With Medicare &amp; Medicaid Entitlement</th>\n",
       "      <th>Percent (%) of Beneficiaries Identified With Atrial Fibrillation</th>\n",
       "      <th>Percent (%) of Beneficiaries Identified With Alzheimer’s Disease or Dementia</th>\n",
       "      <th>Percent (%) of Beneficiaries Identified With Asthma</th>\n",
       "      <th>Percent (%) of Beneficiaries Identified With Cancer</th>\n",
       "      <th>Percent (%) of Beneficiaries Identified With Heart Failure</th>\n",
       "      <th>Percent (%) of Beneficiaries Identified With Chronic Kidney Disease</th>\n",
       "      <th>Percent (%) of Beneficiaries Identified With Chronic Obstructive Pulmonary Disease</th>\n",
       "      <th>Percent (%) of Beneficiaries Identified With Depression</th>\n",
       "      <th>Percent (%) of Beneficiaries Identified With Diabetes</th>\n",
       "      <th>Percent (%) of Beneficiaries Identified With Hyperlipidemia</th>\n",
       "      <th>Percent (%) of Beneficiaries Identified With Hypertension</th>\n",
       "      <th>Percent (%) of Beneficiaries Identified With Ischemic Heart Disease</th>\n",
       "      <th>Percent (%) of Beneficiaries Identified With Osteoporosis</th>\n",
       "      <th>Percent (%) of Beneficiaries Identified With Rheumatoid Arthritis / Osteoarthritis</th>\n",
       "      <th>Percent (%) of Beneficiaries Identified With Schizophrenia / Other Psychotic Disorders</th>\n",
       "      <th>Percent (%) of Beneficiaries Identified With Stroke</th>\n",
       "      <th>Average HCC Risk Score of Beneficiaries</th>\n",
       "    </tr>\n",
       "  </thead>\n",
       "  <tbody>\n",
       "    <tr>\n",
       "      <th>0</th>\n",
       "      <td>1003000126</td>\n",
       "      <td>ENKESHAFI</td>\n",
       "      <td>ARDALAN</td>\n",
       "      <td>NaN</td>\n",
       "      <td>M.D.</td>\n",
       "      <td>M</td>\n",
       "      <td>I</td>\n",
       "      <td>900 SETON DR</td>\n",
       "      <td>NaN</td>\n",
       "      <td>CUMBERLAND</td>\n",
       "      <td>215021854</td>\n",
       "      <td>1.0</td>\n",
       "      <td>MD</td>\n",
       "      <td>US</td>\n",
       "      <td>Internal Medicine</td>\n",
       "      <td>Y</td>\n",
       "      <td>23</td>\n",
       "      <td>1670.0</td>\n",
       "      <td>578</td>\n",
       "      <td>800850.0</td>\n",
       "      <td>177181.14</td>\n",
       "      <td>137084.55</td>\n",
       "      <td>138279.12</td>\n",
       "      <td>NaN</td>\n",
       "      <td>0.0</td>\n",
       "      <td>0.0</td>\n",
       "      <td>0.0</td>\n",
       "      <td>0.0</td>\n",
       "      <td>0.0</td>\n",
       "      <td>0.0</td>\n",
       "      <td>0.0</td>\n",
       "      <td>NaN</td>\n",
       "      <td>23.0</td>\n",
       "      <td>1670.0</td>\n",
       "      <td>578.0</td>\n",
       "      <td>800850.0</td>\n",
       "      <td>177181.14</td>\n",
       "      <td>137084.55</td>\n",
       "      <td>138279.12</td>\n",
       "      <td>75</td>\n",
       "      <td>84.0</td>\n",
       "      <td>186.0</td>\n",
       "      <td>187.0</td>\n",
       "      <td>121.0</td>\n",
       "      <td>338.0</td>\n",
       "      <td>240.0</td>\n",
       "      <td>525.0</td>\n",
       "      <td>38.0</td>\n",
       "      <td>NaN</td>\n",
       "      <td>NaN</td>\n",
       "      <td>0.0</td>\n",
       "      <td>NaN</td>\n",
       "      <td>425.0</td>\n",
       "      <td>153.0</td>\n",
       "      <td>24.0</td>\n",
       "      <td>29.0</td>\n",
       "      <td>11.0</td>\n",
       "      <td>14.0</td>\n",
       "      <td>47.0</td>\n",
       "      <td>65.0</td>\n",
       "      <td>36.0</td>\n",
       "      <td>46.0</td>\n",
       "      <td>51.0</td>\n",
       "      <td>67.0</td>\n",
       "      <td>75.0</td>\n",
       "      <td>56.0</td>\n",
       "      <td>9.0</td>\n",
       "      <td>49.0</td>\n",
       "      <td>8.0</td>\n",
       "      <td>13.0</td>\n",
       "      <td>2.1178</td>\n",
       "    </tr>\n",
       "    <tr>\n",
       "      <th>1</th>\n",
       "      <td>1003000134</td>\n",
       "      <td>CIBULL</td>\n",
       "      <td>THOMAS</td>\n",
       "      <td>L</td>\n",
       "      <td>M.D.</td>\n",
       "      <td>M</td>\n",
       "      <td>I</td>\n",
       "      <td>2650 RIDGE AVE</td>\n",
       "      <td>EVANSTON HOSPITAL</td>\n",
       "      <td>EVANSTON</td>\n",
       "      <td>602011718</td>\n",
       "      <td>1.0</td>\n",
       "      <td>IL</td>\n",
       "      <td>US</td>\n",
       "      <td>Pathology</td>\n",
       "      <td>Y</td>\n",
       "      <td>20</td>\n",
       "      <td>8149.0</td>\n",
       "      <td>3703</td>\n",
       "      <td>1272161.0</td>\n",
       "      <td>319561.26</td>\n",
       "      <td>243698.97</td>\n",
       "      <td>235917.60</td>\n",
       "      <td>NaN</td>\n",
       "      <td>0.0</td>\n",
       "      <td>0.0</td>\n",
       "      <td>0.0</td>\n",
       "      <td>0.0</td>\n",
       "      <td>0.0</td>\n",
       "      <td>0.0</td>\n",
       "      <td>0.0</td>\n",
       "      <td>NaN</td>\n",
       "      <td>20.0</td>\n",
       "      <td>8149.0</td>\n",
       "      <td>3703.0</td>\n",
       "      <td>1272161.0</td>\n",
       "      <td>319561.26</td>\n",
       "      <td>243698.97</td>\n",
       "      <td>235917.60</td>\n",
       "      <td>76</td>\n",
       "      <td>86.0</td>\n",
       "      <td>1582.0</td>\n",
       "      <td>1298.0</td>\n",
       "      <td>737.0</td>\n",
       "      <td>1802.0</td>\n",
       "      <td>1901.0</td>\n",
       "      <td>3407.0</td>\n",
       "      <td>NaN</td>\n",
       "      <td>63.0</td>\n",
       "      <td>62.0</td>\n",
       "      <td>NaN</td>\n",
       "      <td>118.0</td>\n",
       "      <td>3503.0</td>\n",
       "      <td>200.0</td>\n",
       "      <td>12.0</td>\n",
       "      <td>7.0</td>\n",
       "      <td>4.0</td>\n",
       "      <td>13.0</td>\n",
       "      <td>13.0</td>\n",
       "      <td>19.0</td>\n",
       "      <td>8.0</td>\n",
       "      <td>12.0</td>\n",
       "      <td>20.0</td>\n",
       "      <td>34.0</td>\n",
       "      <td>55.0</td>\n",
       "      <td>27.0</td>\n",
       "      <td>9.0</td>\n",
       "      <td>36.0</td>\n",
       "      <td>1.0</td>\n",
       "      <td>3.0</td>\n",
       "      <td>1.1024</td>\n",
       "    </tr>\n",
       "  </tbody>\n",
       "</table>\n",
       "</div>"
      ],
      "text/plain": [
       "   National Provider Identifier Last Name/Organization Name of the Provider First Name of the Provider Middle Initial of the Provider Credentials of the Provider Gender of the Provider Entity Type of the Provider Street Address 1 of the Provider Street Address 2 of the Provider City of the Provider Zip Code of the Provider  Provider RUCA State Code of the Provider Country Code of the Provider Provider Type of the Provider Medicare Participation Indicator  Number of HCPCS  Number of Services  Number of Medicare Beneficiaries  Total Submitted Charge Amount  Total Medicare Allowed Amount  Total Medicare Payment Amount  Total Medicare Standardized Payment Amount Drug Suppress Indicator  Number of HCPCS Associated With Drug Services  Number of Drug Services  Number of Medicare Beneficiaries With Drug Services  Total Drug Submitted Charge Amount  Total Drug Medicare Allowed Amount  Total Drug Medicare Payment Amount  Total Drug Medicare Standardized Payment Amount  \\\n",
       "0                    1003000126                                   ENKESHAFI                    ARDALAN                            NaN                        M.D.                      M                           I                     900 SETON DR                              NaN           CUMBERLAND                215021854            1.0                         MD                           US             Internal Medicine                                Y               23              1670.0                               578                       800850.0                      177181.14                      137084.55                                   138279.12                     NaN                                            0.0                      0.0                                                0.0                                   0.0                                 0.0                                 0.0                                              0.0   \n",
       "1                    1003000134                                      CIBULL                     THOMAS                              L                        M.D.                      M                           I                   2650 RIDGE AVE                EVANSTON HOSPITAL             EVANSTON                602011718            1.0                         IL                           US                     Pathology                                Y               20              8149.0                              3703                      1272161.0                      319561.26                      243698.97                                   235917.60                     NaN                                            0.0                      0.0                                                0.0                                   0.0                                 0.0                                 0.0                                              0.0   \n",
       "\n",
       "  Medical Suppress Indicator  Number of HCPCS Associated With Medical Services  Number of Medical Services  Number of Medicare Beneficiaries With Medical Services  Total Medical Submitted Charge Amount  Total Medical Medicare Allowed Amount  Total Medical Medicare Payment Amount  Total Medical Medicare Standardized Payment Amount  Average Age of Beneficiaries  Number of Beneficiaries Age Less 65  Number of Beneficiaries Age 65 to 74  Number of Beneficiaries Age 75 to 84  Number of Beneficiaries Age Greater 84  Number of Female Beneficiaries  Number of Male Beneficiaries\\t  Number of Non-Hispanic White Beneficiaries\\t  Number of Black or African American Beneficiaries  Number of Asian Pacific Islander Beneficiaries  Number of Hispanic Beneficiaries  Number of American Indian/Alaska Native Beneficiaries  Number of Beneficiaries With Race Not Elsewhere Classified  Number of Beneficiaries With Medicare Only Entitlement  Number of Beneficiaries With Medicare & Medicaid Entitlement  \\\n",
       "0                        NaN                                              23.0                      1670.0                                              578.0                                    800850.0                              177181.14                              137084.55                                          138279.12                             75                                 84.0                                 186.0                                 187.0                                   121.0                           338.0                           240.0                                         525.0                                               38.0                                             NaN                               NaN                                                0.0                                                    NaN                                                       425.0                                                   153.0              \n",
       "1                        NaN                                              20.0                      8149.0                                             3703.0                                   1272161.0                              319561.26                              243698.97                                          235917.60                             76                                 86.0                                1582.0                                1298.0                                   737.0                          1802.0                          1901.0                                        3407.0                                                NaN                                            63.0                              62.0                                                NaN                                                  118.0                                                      3503.0                                                   200.0              \n",
       "\n",
       "   Percent (%) of Beneficiaries Identified With Atrial Fibrillation  Percent (%) of Beneficiaries Identified With Alzheimer’s Disease or Dementia  Percent (%) of Beneficiaries Identified With Asthma  Percent (%) of Beneficiaries Identified With Cancer  Percent (%) of Beneficiaries Identified With Heart Failure  Percent (%) of Beneficiaries Identified With Chronic Kidney Disease  Percent (%) of Beneficiaries Identified With Chronic Obstructive Pulmonary Disease  Percent (%) of Beneficiaries Identified With Depression  Percent (%) of Beneficiaries Identified With Diabetes  Percent (%) of Beneficiaries Identified With Hyperlipidemia  Percent (%) of Beneficiaries Identified With Hypertension  Percent (%) of Beneficiaries Identified With Ischemic Heart Disease  Percent (%) of Beneficiaries Identified With Osteoporosis  Percent (%) of Beneficiaries Identified With Rheumatoid Arthritis / Osteoarthritis  Percent (%) of Beneficiaries Identified With Schizophrenia / Other Psychotic Disorders  \\\n",
       "0                                               24.0                                                              29.0                                                                          11.0                                                 14.0                                                 47.0                                                        65.0                                                                 36.0                                                                                46.0                                                     51.0                                                   67.0                                                         75.0                                                       56.0                                                                  9.0                                                       49.0                                                                                 8.0                                        \n",
       "1                                               12.0                                                               7.0                                                                           4.0                                                 13.0                                                 13.0                                                        19.0                                                                  8.0                                                                                12.0                                                     20.0                                                   34.0                                                         55.0                                                       27.0                                                                  9.0                                                       36.0                                                                                 1.0                                        \n",
       "\n",
       "   Percent (%) of Beneficiaries Identified With Stroke  Average HCC Risk Score of Beneficiaries  \n",
       "0                                               13.0                                     2.1178  \n",
       "1                                                3.0                                     1.1024  "
      ]
     },
     "execution_count": 6,
     "metadata": {},
     "output_type": "execute_result"
    }
   ],
   "source": [
    "data.head(2)"
   ]
  },
  {
   "cell_type": "raw",
   "metadata": {},
   "source": [
    "2.  Run some basic checks: -- Confirm the total number of physicians and list physician by \"type of provider\", \"state\",  \"gender\" and \"credentials\"- Do the number of doctors by \"type of provider\" make sense? Do the number of doctors by \"state\" make sense?  Can you cross-check against any other data source that you can think? "
   ]
  },
  {
   "cell_type": "markdown",
   "metadata": {},
   "source": [
    "# total number of physicians"
   ]
  },
  {
   "cell_type": "code",
   "execution_count": 16,
   "metadata": {},
   "outputs": [
    {
     "name": "stdout",
     "output_type": "stream",
     "text": [
      "Total Number of Physicians: 1088687\n"
     ]
    }
   ],
   "source": [
    "#total number of physicians\n",
    "ct=data['National Provider Identifier'].count()\n",
    "print('Total Number of Physicians:',ct)"
   ]
  },
  {
   "cell_type": "markdown",
   "metadata": {},
   "source": [
    "\n",
    "# list physician by \"type of provider\""
   ]
  },
  {
   "cell_type": "code",
   "execution_count": 43,
   "metadata": {},
   "outputs": [
    {
     "data": {
      "text/plain": [
       "Entity Type of the Provider\n",
       "I    1026824\n",
       "O      61863\n",
       "Name: National Provider Identifier, dtype: int64"
      ]
     },
     "execution_count": 43,
     "metadata": {},
     "output_type": "execute_result"
    }
   ],
   "source": [
    "#list physician by \"type of provider\"\n",
    "tp=data.groupby('Entity Type of the Provider')['National Provider Identifier'].count()\n",
    "tp"
   ]
  },
  {
   "cell_type": "code",
   "execution_count": 50,
   "metadata": {},
   "outputs": [
    {
     "data": {
      "image/png": "[encoded data removed]",
      "text/plain": [
       "<Figure size 432x288 with 1 Axes>"
      ]
     },
     "metadata": {
      "needs_background": "light"
     },
     "output_type": "display_data"
    }
   ],
   "source": [
    "tp.plot(kind='bar',color=['Green','Yellow'])\n",
    "plt.show()\n"
   ]
  },
  {
   "cell_type": "markdown",
   "metadata": {},
   "source": [
    "# Do the number of doctors by \"type of provider\" make sense?\n",
    "Yes,\n",
    "Type I is leading and is most prefered by the physician.\n"
   ]
  },
  {
   "cell_type": "markdown",
   "metadata": {},
   "source": [
    "# list physician by \"state\""
   ]
  },
  {
   "cell_type": "code",
   "execution_count": 51,
   "metadata": {},
   "outputs": [
    {
     "data": {
      "text/plain": [
       "State Code of the Provider\n",
       "CA    88265\n",
       "NY    76169\n",
       "TX    69092\n",
       "FL    66406\n",
       "PA    54961\n",
       "IL    44672\n",
       "OH    43858\n",
       "MI    39582\n",
       "NC    36366\n",
       "MA    34366\n",
       "Name: National Provider Identifier, dtype: int64"
      ]
     },
     "execution_count": 51,
     "metadata": {},
     "output_type": "execute_result"
    }
   ],
   "source": [
    "#list physician by \"state\"\n",
    "sp=data.groupby('State Code of the Provider')['National Provider Identifier'].count().sort_values(ascending=False).head(10)\n",
    "sp"
   ]
  },
  {
   "cell_type": "code",
   "execution_count": 53,
   "metadata": {},
   "outputs": [
    {
     "data": {
      "image/png": "[encoded data removed]",
      "text/plain": [
       "<Figure size 432x288 with 1 Axes>"
      ]
     },
     "metadata": {
      "needs_background": "light"
     },
     "output_type": "display_data"
    }
   ],
   "source": [
    "#visualising only top 10 leading states.\n",
    "sp.plot(kind='bar')\n",
    "plt.show()\n"
   ]
  },
  {
   "cell_type": "markdown",
   "metadata": {},
   "source": [
    "# Do the number of doctors by \"state\" make sense?\n",
    "Yes. State CA is having the most number of Doctors."
   ]
  },
  {
   "cell_type": "markdown",
   "metadata": {},
   "source": [
    "# list physician by \"gender\" "
   ]
  },
  {
   "cell_type": "code",
   "execution_count": 54,
   "metadata": {},
   "outputs": [
    {
     "data": {
      "text/plain": [
       "Gender of the Provider\n",
       "M    574380\n",
       "F    452444\n",
       "Name: National Provider Identifier, dtype: int64"
      ]
     },
     "execution_count": 54,
     "metadata": {},
     "output_type": "execute_result"
    }
   ],
   "source": [
    "#list physician by \"gender\" \n",
    "gp=data.groupby('Gender of the Provider')['National Provider Identifier'].count().sort_values(ascending=False)\n",
    "gp"
   ]
  },
  {
   "cell_type": "code",
   "execution_count": 56,
   "metadata": {},
   "outputs": [
    {
     "data": {
      "image/png": "[encoded data removed]",
      "text/plain": [
       "<Figure size 432x288 with 1 Axes>"
      ]
     },
     "metadata": {
      "needs_background": "light"
     },
     "output_type": "display_data"
    }
   ],
   "source": [
    "#Count of Physician by gender\n",
    "gp.plot(kind='bar',color=['Green','Red'])\n",
    "plt.show()\n"
   ]
  },
  {
   "cell_type": "markdown",
   "metadata": {},
   "source": [
    "# list physician by \"credentials\""
   ]
  },
  {
   "cell_type": "code",
   "execution_count": 59,
   "metadata": {},
   "outputs": [
    {
     "data": {
      "text/plain": [
       "Credentials of the Provider\n",
       "MD      256234\n",
       "M.D.    251705\n",
       "CRNA     36099\n",
       "PA-C     35750\n",
       "D.O.     31355\n",
       "DO       21812\n",
       "D.C.     21537\n",
       "O.D.     18914\n",
       "NP       17985\n",
       "PA       15734\n",
       "PT       14550\n",
       "DPT      11436\n",
       "FNP      11369\n",
       "DC       10710\n",
       "DPM       9845\n",
       "OD        8723\n",
       "M.D       8683\n",
       "ARNP      8445\n",
       "LCSW      8257\n",
       "APRN      7558\n",
       "Name: National Provider Identifier, dtype: int64"
      ]
     },
     "execution_count": 59,
     "metadata": {},
     "output_type": "execute_result"
    }
   ],
   "source": [
    "#list physician by \"credentials\"\n",
    "cp=data.groupby('Credentials of the Provider')['National Provider Identifier'].count().sort_values(ascending=False).head(20)\n",
    "cp"
   ]
  },
  {
   "cell_type": "code",
   "execution_count": 60,
   "metadata": {},
   "outputs": [
    {
     "data": {
      "image/png": "[encoded data removed]",
      "text/plain": [
       "<Figure size 432x288 with 1 Axes>"
      ]
     },
     "metadata": {
      "needs_background": "light"
     },
     "output_type": "display_data"
    }
   ],
   "source": [
    "#visualising only top 20 leading credentials.\n",
    "cp.plot(kind='bar')\n",
    "plt.show()\n"
   ]
  },
  {
   "cell_type": "code",
   "execution_count": 83,
   "metadata": {},
   "outputs": [],
   "source": [
    "data['Credentials of the Provider_1']=data['Credentials of the Provider'].replace({'O.D.':'OD','M.D.':'MD','D.O.':'DO','O.D':'OD','D.C.':'DC','M.D':'MD'})"
   ]
  },
  {
   "cell_type": "code",
   "execution_count": 85,
   "metadata": {},
   "outputs": [
    {
     "data": {
      "text/plain": [
       "Credentials of the Provider_1\n",
       "MD       516622\n",
       "DO        53167\n",
       "CRNA      36099\n",
       "PA-C      35750\n",
       "DC        32247\n",
       "OD        28092\n",
       "NP        17985\n",
       "PA        15734\n",
       "PT        14550\n",
       "DPT       11436\n",
       "FNP       11369\n",
       "DPM        9845\n",
       "ARNP       8445\n",
       "LCSW       8257\n",
       "APRN       7558\n",
       "CRNP       5626\n",
       "PH.D.      5560\n",
       "P.T.       5120\n",
       "P.A.       4738\n",
       "FNP-C      4630\n",
       "Name: National Provider Identifier, dtype: int64"
      ]
     },
     "execution_count": 85,
     "metadata": {},
     "output_type": "execute_result"
    }
   ],
   "source": [
    "#list physician by \"credentials\"\n",
    "cp=data.groupby('Credentials of the Provider_1')['National Provider Identifier'].count().sort_values(ascending=False).head(20)\n",
    "cp"
   ]
  },
  {
   "cell_type": "code",
   "execution_count": 86,
   "metadata": {},
   "outputs": [
    {
     "data": {
      "image/png": "[encoded data removed]",
      "text/plain": [
       "<Figure size 432x288 with 1 Axes>"
      ]
     },
     "metadata": {
      "needs_background": "light"
     },
     "output_type": "display_data"
    }
   ],
   "source": [
    "#visualising only top 20 leading credentials.\n",
    "cp.plot(kind='bar')\n",
    "plt.show()\n"
   ]
  },
  {
   "cell_type": "markdown",
   "metadata": {},
   "source": [
    "# Can you cross-check against any other data source that you can think? \n",
    "Yes,\n",
    "1.Physician by gender is having the nearby same ratio of physicians.\n",
    "2.MD is the most credentials done by the Physicians."
   ]
  },
  {
   "cell_type": "markdown",
   "metadata": {},
   "source": [
    "3.  Segment physicians by \"Number of Medicare Beneficiaries\" for any given year (say 2017) - Divide physicians in 5 buckets based on ones that treat MOST to FEWEST Medicare beneficiaries - Label each bucket Beneficiary Segment 1 (highest) to Beneficiary Segment 5 (lowest)- How many physicians in each bucket?  What is the average # of beneficiaries by each bucket?  What is the highest and lowest number for each segment?  \n"
   ]
  },
  {
   "cell_type": "code",
   "execution_count": 95,
   "metadata": {},
   "outputs": [
    {
     "data": {
      "text/plain": [
       "National Provider Identifier\n",
       "1538144910    1575978\n",
       "1063497451     901798\n",
       "1891731626     737483\n",
       "1295726032     656645\n",
       "1366479099     629319\n",
       "Name: Number of Medicare Beneficiaries, dtype: int64"
      ]
     },
     "execution_count": 95,
     "metadata": {},
     "output_type": "execute_result"
    }
   ],
   "source": [
    "highest=data.groupby('National Provider Identifier')['Number of Medicare Beneficiaries'].sum().sort_values(ascending=False).head(5)\n",
    "highest"
   ]
  },
  {
   "cell_type": "code",
   "execution_count": 96,
   "metadata": {},
   "outputs": [
    {
     "data": {
      "text/plain": [
       "National Provider Identifier\n",
       "1598818940    11\n",
       "1891748182    11\n",
       "1518370162    11\n",
       "1588827596    11\n",
       "1700078771    11\n",
       "Name: Number of Medicare Beneficiaries, dtype: int64"
      ]
     },
     "execution_count": 96,
     "metadata": {},
     "output_type": "execute_result"
    }
   ],
   "source": [
    "lowest=data.groupby('National Provider Identifier')['Number of Medicare Beneficiaries'].sum().sort_values(ascending=True).head(5)\n",
    "lowest"
   ]
  },
  {
   "cell_type": "markdown",
   "metadata": {},
   "source": [
    "# What is the highest and lowest number for each segment?  \n",
    "highest: 1575978\n",
    "lowest: 11"
   ]
  },
  {
   "cell_type": "markdown",
   "metadata": {},
   "source": [
    "Can you repeat step#3 above based on \"Total Medical Medicare Standardized Payment Amount\"  - This time call the segments Payment Segment 1 to Payment Segment 5 "
   ]
  },
  {
   "cell_type": "code",
   "execution_count": 98,
   "metadata": {},
   "outputs": [
    {
     "data": {
      "text/plain": [
       "National Provider Identifier\n",
       "1538144910    2.378553e+08\n",
       "1063497451    1.313576e+08\n",
       "1629407069    1.162447e+08\n",
       "1891731626    1.134511e+08\n",
       "1134277494    1.015643e+08\n",
       "Name: Total Medicare Standardized Payment Amount, dtype: float64"
      ]
     },
     "execution_count": 98,
     "metadata": {},
     "output_type": "execute_result"
    }
   ],
   "source": [
    "highest=data.groupby('National Provider Identifier')['Total Medicare Standardized Payment Amount'].sum().sort_values(ascending=False).head(5)\n",
    "highest"
   ]
  },
  {
   "cell_type": "code",
   "execution_count": 99,
   "metadata": {},
   "outputs": [
    {
     "data": {
      "text/plain": [
       "National Provider Identifier\n",
       "1033420898    0.00\n",
       "1619900628    0.00\n",
       "1245580471    0.00\n",
       "1063506798    0.00\n",
       "1457430415    2.17\n",
       "Name: Total Medicare Standardized Payment Amount, dtype: float64"
      ]
     },
     "execution_count": 99,
     "metadata": {},
     "output_type": "execute_result"
    }
   ],
   "source": [
    "Lowest=data.groupby('National Provider Identifier')['Total Medicare Standardized Payment Amount'].sum().sort_values(ascending=True).head(5)\n",
    "Lowest"
   ]
  },
  {
   "cell_type": "code",
   "execution_count": null,
   "metadata": {},
   "outputs": [],
   "source": []
  }
 ],
 "metadata": {
  "kernelspec": {
   "display_name": "Python 3",
   "language": "python",
   "name": "python3"
  },
  "language_info": {
   "codemirror_mode": {
    "name": "ipython",
    "version": 3
   },
   "file_extension": ".py",
   "mimetype": "text/x-python",
   "name": "python",
   "nbconvert_exporter": "python",
   "pygments_lexer": "ipython3",
   "version": "3.7.3"
  }
 },
 "nbformat": 4,
 "nbformat_minor": 2
}
